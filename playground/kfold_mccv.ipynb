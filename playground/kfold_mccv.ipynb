{
 "cells": [
  {
   "cell_type": "code",
   "execution_count": null,
   "metadata": {},
   "outputs": [],
   "source": [
    "import pandas as pd\n",
    "from sklearn.model_selection import train_test_split\n",
    "import plotly.express as px\n",
    "from sklearn.tree import DecisionTreeClassifier, DecisionTreeRegressor\n",
    "from sklearn.model_selection import KFold\n",
    "from sklearn.linear_model import LinearRegression, RANSACRegressor\n",
    "from sklearn.utils import all_estimators\n",
    "from sklearn.ensemble import (\n",
    "    RandomForestRegressor,\n",
    "    GradientBoostingRegressor,\n",
    "    RandomForestRegressor,\n",
    "    GradientBoostingRegressor,\n",
    ")\n",
    "from sklearn.preprocessing import MinMaxScaler\n",
    "from sklearn.neighbors import KNeighborsRegressor, KNeighborsRegressor\n",
    "import sklearn.datasets as ds\n",
    "from sklearn.metrics import accuracy_score, f1_score, mean_squared_error\n",
    "import seaborn as sns\n",
    "import plotly.figure_factory as ff\n"
   ]
  },
  {
   "cell_type": "code",
   "execution_count": null,
   "metadata": {},
   "outputs": [],
   "source": [
    "X, y = ds.fetch_california_housing(as_frame=True, return_X_y=True)"
   ]
  },
  {
   "cell_type": "code",
   "execution_count": null,
   "metadata": {},
   "outputs": [],
   "source": [
    "X_train, X_test, y_train, y_test = train_test_split(X, y, test_size=0.3, shuffle=False)"
   ]
  },
  {
   "cell_type": "code",
   "execution_count": null,
   "metadata": {},
   "outputs": [],
   "source": [
    "X_train"
   ]
  },
  {
   "cell_type": "code",
   "execution_count": null,
   "metadata": {},
   "outputs": [],
   "source": [
    "y_train"
   ]
  },
  {
   "attachments": {},
   "cell_type": "markdown",
   "metadata": {},
   "source": [
    "# KFold\n"
   ]
  },
  {
   "cell_type": "code",
   "execution_count": null,
   "metadata": {},
   "outputs": [],
   "source": [
    "from collections import defaultdict\n",
    "\n",
    "\n",
    "MODELS = all_estimators(type_filter=\"regressor\")\n",
    "eval_rs = defaultdict(lambda: [])\n",
    "\n",
    "kfold = KFold(n_splits=10)\n",
    "for i, (train_index, test_index) in enumerate(kfold.split(X_train, y_train)):\n",
    "    print(f\"Fold {i}:\")\n",
    "    print(f\"  Train: index={train_index}\")\n",
    "    print(f\"  Test:  index={test_index}\")\n",
    "    for key, model_cls in MODELS:\n",
    "        if key in [\n",
    "            \"CCA\",\n",
    "            \"IsotonicRegression\",\n",
    "            \"KernelRidge\",\n",
    "            \"LinearSVR\",\n",
    "            \"GaussianProcessRegressor\",\n",
    "            \"HuberRegressor\",\n",
    "            \"MultiOutputRegressor\",\n",
    "            \"MultiTaskElasticNet\",\n",
    "            \"MultiTaskElasticNetCV\",\n",
    "            \"MultiTaskLasso\",\n",
    "            \"MultiTaskLassoCV\",\n",
    "            \"PLSCanonical\",\n",
    "            \"PoissonRegressor\",\n",
    "            \"QuantileRegressor\",\n",
    "            \"RadiusNeighborsRegressor\",\n",
    "            \"RegressorChain\",\n",
    "            \"StackingRegressor\",\n",
    "            \"VotingRegressor\",\n",
    "        ]:\n",
    "            continue\n",
    "        print(f\"Fitting {key}.\", end=\" \")\n",
    "        model = model_cls()\n",
    "        scaler = MinMaxScaler()\n",
    "        model.fit(\n",
    "            scaler.fit_transform(X_train.iloc[train_index]), y_train.iloc[train_index]\n",
    "        )\n",
    "\n",
    "        test_pred = model.predict(scaler.transform(X_train.iloc[test_index]))\n",
    "        result = mean_squared_error(y_train.iloc[test_index], test_pred)\n",
    "        print(f\"{result=}\")\n",
    "        eval_rs[key].append(result)"
   ]
  },
  {
   "cell_type": "code",
   "execution_count": null,
   "metadata": {},
   "outputs": [],
   "source": [
    "eval_df = pd.DataFrame(eval_rs)\n",
    "eval_df\n"
   ]
  },
  {
   "cell_type": "code",
   "execution_count": null,
   "metadata": {},
   "outputs": [],
   "source": [
    "eval_summary = eval_df.describe().T.sort_values(\"mean\")\n",
    "eval_summary\n"
   ]
  },
  {
   "cell_type": "code",
   "execution_count": null,
   "metadata": {},
   "outputs": [],
   "source": [
    "eval_"
   ]
  },
  {
   "cell_type": "code",
   "execution_count": null,
   "metadata": {},
   "outputs": [],
   "source": [
    "eval_df"
   ]
  },
  {
   "cell_type": "code",
   "execution_count": null,
   "metadata": {},
   "outputs": [],
   "source": [
    "eval_df_long = pd.melt(eval_df)\n",
    "px.histogram(\n",
    "    eval_df_long[eval_df_long[\"value\"] < 4],\n",
    "    facet_col=\"variable\",\n",
    "    facet_col_wrap=2,\n",
    "    height=10000,\n",
    "    facet_row_spacing=0.002,\n",
    "    nbins=100,\n",
    "    text_auto=True,\n",
    ")"
   ]
  },
  {
   "attachments": {},
   "cell_type": "markdown",
   "metadata": {},
   "source": [
    "# MCCV\n"
   ]
  },
  {
   "cell_type": "code",
   "execution_count": null,
   "metadata": {},
   "outputs": [],
   "source": [
    "mccv_eval_rs = defaultdict(lambda: [])\n",
    "for i in range(100):\n",
    "    X_train, X_test, y_train, y_test = train_test_split(\n",
    "        X_train, y_train, test_size=1 / 10\n",
    "    )\n"
   ]
  }
 ],
 "metadata": {
  "kernelspec": {
   "display_name": "playground-bmwMHTlj-py3.9",
   "language": "python",
   "name": "python3"
  },
  "language_info": {
   "codemirror_mode": {
    "name": "ipython",
    "version": 3
   },
   "file_extension": ".py",
   "mimetype": "text/x-python",
   "name": "python",
   "nbconvert_exporter": "python",
   "pygments_lexer": "ipython3",
   "version": "3.9.17"
  },
  "orig_nbformat": 4
 },
 "nbformat": 4,
 "nbformat_minor": 2
}
